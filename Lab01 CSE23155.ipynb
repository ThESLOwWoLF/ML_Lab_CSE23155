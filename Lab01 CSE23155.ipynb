{
 "cells": [
  {
   "metadata": {},
   "cell_type": "markdown",
   "source": "## Q1)\n",
   "id": "6362fe1ece793b68"
  },
  {
   "metadata": {
    "ExecuteTime": {
     "end_time": "2025-07-09T05:49:25.493999Z",
     "start_time": "2025-07-09T05:49:25.490077Z"
    }
   },
   "cell_type": "code",
   "source": [
    "from statistics import median\n",
    "\n",
    "\n",
    "def sum(arr,m):\n",
    "    n=len(arr)\n",
    "    count=0\n",
    "    for i in range(n):\n",
    "        for j in range(i+1,n):\n",
    "            if arr[i]+arr[j]==m:\n",
    "                count+=1\n",
    "    return count\n",
    "a=[2,7,4,1,3,6]\n",
    "m=10\n",
    "result=sum(a,m)\n",
    "print(result)"
   ],
   "id": "9b73a12cba4b0891",
   "outputs": [
    {
     "name": "stdout",
     "output_type": "stream",
     "text": [
      "2\n"
     ]
    }
   ],
   "execution_count": 2
  },
  {
   "metadata": {},
   "cell_type": "markdown",
   "source": "## Q2)\n",
   "id": "f3f16586c588db7c"
  },
  {
   "metadata": {
    "ExecuteTime": {
     "end_time": "2025-07-09T06:09:52.546358Z",
     "start_time": "2025-07-09T06:09:50.254163Z"
    }
   },
   "cell_type": "code",
   "source": [
    "a=list(map(int,input(\"enter the elements of the list\").split()))\n",
    "if len(a)<3:\n",
    "    print(\"rnage determination is not possible\")\n",
    "else:\n",
    "    range=[max(a),min(a)]\n",
    "    print(\"range is \",range)\n"
   ],
   "id": "3cc1fa9ad72f028",
   "outputs": [
    {
     "name": "stdout",
     "output_type": "stream",
     "text": [
      "rnage determination is not possible\n"
     ]
    }
   ],
   "execution_count": 9
  },
  {
   "metadata": {},
   "cell_type": "markdown",
   "source": "## Q3)",
   "id": "15bfc74233668493"
  },
  {
   "metadata": {
    "ExecuteTime": {
     "end_time": "2025-07-09T06:10:22.593385Z",
     "start_time": "2025-07-09T06:10:18.836108Z"
    }
   },
   "cell_type": "code",
   "source": [
    "import numpy as np\n",
    "a = np.array([[2, 7, 4],[3, 8, 5],[4, 9, 6]])\n",
    "m=int(input(\"enter the value of the power\"))\n",
    "result = np.linalg.matrix_power(a, m)\n",
    "print(result)"
   ],
   "id": "98634e1f9e62b275",
   "outputs": [
    {
     "name": "stdout",
     "output_type": "stream",
     "text": [
      "[[178952 465532 293584]\n",
      " [219116 570016 359476]\n",
      " [259280 674500 425368]]\n"
     ]
    }
   ],
   "execution_count": 10
  },
  {
   "metadata": {},
   "cell_type": "markdown",
   "source": "## Q4)",
   "id": "3f38a92f3d1b5436"
  },
  {
   "metadata": {
    "ExecuteTime": {
     "end_time": "2025-07-09T06:29:03.911595Z",
     "start_time": "2025-07-09T06:29:03.907769Z"
    }
   },
   "cell_type": "code",
   "source": [
    "s=\"Hippopotamus\"\n",
    "a=max(s,key=s.count)\n",
    "print(f\"the most repeated is {a} count is {s.count(a)}\")"
   ],
   "id": "2748f5f7af03fec9",
   "outputs": [
    {
     "name": "stdout",
     "output_type": "stream",
     "text": [
      "the most repeated is g count is 2\n"
     ]
    }
   ],
   "execution_count": 23
  },
  {
   "metadata": {},
   "cell_type": "markdown",
   "source": "## Q5)",
   "id": "ff04c3ad59b12ca"
  },
  {
   "metadata": {
    "ExecuteTime": {
     "end_time": "2025-07-09T06:51:30.671112Z",
     "start_time": "2025-07-09T06:51:30.665550Z"
    }
   },
   "cell_type": "code",
   "source": [
    "import random,numpy\n",
    "arr=[]\n",
    "for _ in range(25):\n",
    "    arr.append(random.randint(1,10))\n",
    "mean=numpy.mean(arr)\n",
    "median=numpy.median(arr)\n",
    "mode=max(arr,key=arr.count)\n",
    "print(f\"mean is {mean},median is {median},mode is {mode}\")"
   ],
   "id": "10083613bef5092e",
   "outputs": [
    {
     "name": "stdout",
     "output_type": "stream",
     "text": [
      " mean is 6.12,median is 7.0,mode is 10\n"
     ]
    }
   ],
   "execution_count": 23
  },
  {
   "metadata": {},
   "cell_type": "code",
   "outputs": [],
   "execution_count": null,
   "source": "",
   "id": "1a6c662c1cc4794b"
  },
  {
   "metadata": {
    "ExecuteTime": {
     "end_time": "2025-07-16T04:05:27.122445Z",
     "start_time": "2025-07-16T04:05:27.118249Z"
    }
   },
   "cell_type": "code",
   "source": [
    "s=\"hello world\"\n",
    "print(s[1])"
   ],
   "id": "a55629a4b1c216f2",
   "outputs": [
    {
     "name": "stdout",
     "output_type": "stream",
     "text": [
      "e\n"
     ]
    }
   ],
   "execution_count": 3
  }
 ],
 "metadata": {
  "kernelspec": {
   "display_name": "Python 3",
   "language": "python",
   "name": "python3"
  },
  "language_info": {
   "codemirror_mode": {
    "name": "ipython",
    "version": 2
   },
   "file_extension": ".py",
   "mimetype": "text/x-python",
   "name": "python",
   "nbconvert_exporter": "python",
   "pygments_lexer": "ipython2",
   "version": "2.7.6"
  }
 },
 "nbformat": 4,
 "nbformat_minor": 5
}
