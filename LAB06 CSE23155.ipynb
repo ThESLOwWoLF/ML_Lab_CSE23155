{
 "cells": [
  {
   "metadata": {},
   "cell_type": "markdown",
   "source": "## Q1)",
   "id": "7582e3aa69ef7fc9"
  },
  {
   "cell_type": "code",
   "id": "initial_id",
   "metadata": {
    "collapsed": true,
    "ExecuteTime": {
     "end_time": "2025-08-13T06:32:48.754770Z",
     "start_time": "2025-08-13T06:32:48.747035Z"
    }
   },
   "source": [
    "import pandas as pd\n",
    "import math as mt\n",
    "ds=pd.read_csv(\"audio_labels_20250802_145147.csv\")\n",
    "a=list(ds['label'])\n",
    "count_clear=a.count(\"clear\")\n",
    "count_unclear=a.count(\"unclear\")\n",
    "len_a=len(a)\n",
    "p_clear=count_clear/len_a\n",
    "p_unclear=count_unclear/len_a\n",
    "entropy=-(p_clear*mt.log2(p_clear)+p_unclear*mt.log2(p_unclear))\n",
    "print(entropy)"
   ],
   "outputs": [
    {
     "name": "stdout",
     "output_type": "stream",
     "text": [
      "0.5357142857142857 0.4642857142857143\n",
      "0.996316519558962\n"
     ]
    }
   ],
   "execution_count": 13
  },
  {
   "metadata": {},
   "cell_type": "markdown",
   "source": "## Q2)",
   "id": "9689abe35b4fe088"
  },
  {
   "metadata": {
    "ExecuteTime": {
     "end_time": "2025-08-13T06:33:45.152289Z",
     "start_time": "2025-08-13T06:33:45.148937Z"
    }
   },
   "cell_type": "code",
   "source": [
    "gini=1-((p_clear)**2+(p_unclear)**2)\n",
    "print(gini)"
   ],
   "id": "2c6694bb7009787d",
   "outputs": [
    {
     "name": "stdout",
     "output_type": "stream",
     "text": [
      "0.49744897959183676\n"
     ]
    }
   ],
   "execution_count": 14
  },
  {
   "metadata": {},
   "cell_type": "markdown",
   "source": "## Q3)",
   "id": "74bfd236bf532f02"
  },
  {
   "metadata": {},
   "cell_type": "code",
   "outputs": [],
   "execution_count": null,
   "source": "",
   "id": "fdd825c105dfd95e"
  }
 ],
 "metadata": {
  "kernelspec": {
   "display_name": "Python 3",
   "language": "python",
   "name": "python3"
  },
  "language_info": {
   "codemirror_mode": {
    "name": "ipython",
    "version": 2
   },
   "file_extension": ".py",
   "mimetype": "text/x-python",
   "name": "python",
   "nbconvert_exporter": "python",
   "pygments_lexer": "ipython2",
   "version": "2.7.6"
  }
 },
 "nbformat": 4,
 "nbformat_minor": 5
}
