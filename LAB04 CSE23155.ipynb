{
 "cells": [
  {
   "cell_type": "code",
   "id": "initial_id",
   "metadata": {
    "collapsed": true,
    "ExecuteTime": {
     "end_time": "2025-08-02T15:39:04.661229Z",
     "start_time": "2025-08-02T15:39:03.683356Z"
    }
   },
   "source": [
    "import pandas as pd\n",
    "import numpy as np\n",
    "import librosa\n",
    "from sklearn.model_selection import train_test_split\n",
    "from sklearn.neighbors import KNeighborsClassifier\n",
    "from sklearn.metrics import confusion_matrix,classification_report\n",
    "\n",
    "ds=pd.read_csv('audio_labels_20250802_145147.csv')\n",
    "\n",
    "def ex_mfcc(path):\n",
    "    try:\n",
    "        y,sr=librosa.load(path,sr=None)\n",
    "        mfcc=librosa.feature.mfcc(y=y,sr=sr,n_mfcc=13)\n",
    "        return np.mean(mfcc,axis=1)\n",
    "    except Exception as e:\n",
    "        print(f\"something wrong with this guy {path} or this guy {e}\")\n",
    "        return None\n",
    "ds['features']=ds['file_path'].apply(ex_mfcc)\n",
    "\n",
    "# initializing x and y\n",
    "x=np.vstack(ds['features'].values)\n",
    "y=ds['label'].map({'clear':1,'unclear':0})\n",
    "# using train_text_split\n",
    "x_train,x_test,y_train,y_test=train_test_split(x,y,test_size=0.2,random_state=42)\n",
    "# KNN\n",
    "model=KNeighborsClassifier(n_neighbors=3)\n",
    "model.fit(x_train,y_train)\n",
    "# prediction\n",
    "y_train_pred=model.predict(x_train)\n",
    "y_test_pred=model.predict(x_test)\n",
    "\n",
    "print(confusion_matrix(y_test,y_test_pred))\n",
    "print(classification_report(y_test,y_test_pred))\n",
    "print(confusion_matrix(y_train,y_train_pred))\n",
    "print(classification_report(y_train,y_train_pred))\n",
    "\n"
   ],
   "outputs": [
    {
     "name": "stdout",
     "output_type": "stream",
     "text": [
      "[[ 7  5]\n",
      " [ 1 10]]\n",
      "              precision    recall  f1-score   support\n",
      "\n",
      "           0       0.88      0.58      0.70        12\n",
      "           1       0.67      0.91      0.77        11\n",
      "\n",
      "    accuracy                           0.74        23\n",
      "   macro avg       0.77      0.75      0.73        23\n",
      "weighted avg       0.78      0.74      0.73        23\n",
      "\n",
      "[[30 10]\n",
      " [ 8 41]]\n",
      "              precision    recall  f1-score   support\n",
      "\n",
      "           0       0.79      0.75      0.77        40\n",
      "           1       0.80      0.84      0.82        49\n",
      "\n",
      "    accuracy                           0.80        89\n",
      "   macro avg       0.80      0.79      0.79        89\n",
      "weighted avg       0.80      0.80      0.80        89\n",
      "\n"
     ]
    }
   ],
   "execution_count": 6
  },
  {
   "metadata": {
    "ExecuteTime": {
     "end_time": "2025-08-02T15:40:41.387197Z",
     "start_time": "2025-08-02T15:40:41.375904Z"
    }
   },
   "cell_type": "code",
   "source": "",
   "id": "6443f9d633360013",
   "outputs": [
    {
     "name": "stdout",
     "output_type": "stream",
     "text": [
      "[5.5 6.2]\n"
     ]
    }
   ],
   "execution_count": 7
  }
 ],
 "metadata": {
  "kernelspec": {
   "display_name": "Python 3",
   "language": "python",
   "name": "python3"
  },
  "language_info": {
   "codemirror_mode": {
    "name": "ipython",
    "version": 2
   },
   "file_extension": ".py",
   "mimetype": "text/x-python",
   "name": "python",
   "nbconvert_exporter": "python",
   "pygments_lexer": "ipython2",
   "version": "2.7.6"
  }
 },
 "nbformat": 4,
 "nbformat_minor": 5
}
