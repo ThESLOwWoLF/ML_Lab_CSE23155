{
 "cells": [
  {
   "cell_type": "code",
   "id": "75cee27f11a9dc7b",
   "metadata": {
    "ExecuteTime": {
     "end_time": "2025-07-26T17:01:21.067661Z",
     "start_time": "2025-07-26T17:00:41.724302Z"
    }
   },
   "source": [
    "import os\n",
    "import numpy as np\n",
    "import librosa\n",
    "import matplotlib.pyplot as plt\n",
    "from collections import defaultdict\n",
    "from scipy.spatial import distance\n",
    "import warnings\n",
    "from sklearn.model_selection import train_test_split\n",
    "from sklearn.neighbors import KNeighborsClassifier\n",
    "from sklearn.metrics import confusion_matrix, classification_report\n",
    "\n",
    "warnings.filterwarnings(\"ignore\", category=UserWarning)\n",
    "\n",
    "# config\n",
    "AUDIO_FOLDER = r\"C:\\Users\\sudha\\Documents\\Education\\Study Docs\\Amrita\\SEM 5\\ML\\LAB\\ML Lab\\Cleaned_Audios\\Cleaned_Audios\"\n",
    "n_mfcc = 13\n",
    "\n",
    "def extract_mfcc(filepath, n_mfcc=13):\n",
    "    try:\n",
    "        y, sr = librosa.load(filepath, sr=None)\n",
    "        if len(y) < sr // 2 or np.max(np.abs(y)) < 0.01:\n",
    "            raise ValueError(\"Audio too short or silent\")\n",
    "        y = y / np.max(np.abs(y))  # Normalize\n",
    "        mfcc = librosa.feature.mfcc(y=y, sr=sr, n_mfcc=n_mfcc)\n",
    "        return np.mean(mfcc, axis=1)\n",
    "    except Exception as e:\n",
    "        print(f\"Error processing {os.path.basename(filepath)}: {e}\")\n",
    "        return None\n",
    "\n",
    "class_features = defaultdict(list)\n",
    "all_mfcc0 = []\n",
    "\n",
    "for fname in os.listdir(AUDIO_FOLDER):\n",
    "    if fname.endswith(\".mp3\"):\n",
    "        try:\n",
    "            class_label = fname.split(\"_s\")[1].replace(\".mp3\", \"\")\n",
    "        except:\n",
    "            continue\n",
    "        fpath = os.path.join(AUDIO_FOLDER, fname)\n",
    "        mfcc_vec = extract_mfcc(fpath)\n",
    "        if mfcc_vec is not None:\n",
    "            class_features[class_label].append(mfcc_vec)\n",
    "            all_mfcc0.append(mfcc_vec[0])\n"
   ],
   "outputs": [
    {
     "name": "stderr",
     "output_type": "stream",
     "text": [
      "C:\\Users\\sudha\\PyCharmMiscProject\\.venv\\Lib\\site-packages\\librosa\\core\\audio.py:184: FutureWarning: librosa.core.audio.__audioread_load\n",
      "\tDeprecated as of librosa version 0.10.0.\n",
      "\tIt will be removed in librosa version 1.0.\n",
      "  y, sr_native = __audioread_load(path, offset, duration, dtype)\n"
     ]
    },
    {
     "name": "stdout",
     "output_type": "stream",
     "text": [
      "Error processing 102_s10.mp3: \n",
      "Error processing 102_s11.mp3: \n",
      "Error processing 102_s12.mp3: \n",
      "Error processing 102_s13.mp3: \n",
      "Error processing 102_s14.mp3: \n",
      "Error processing 102_s15.mp3: \n",
      "Error processing 102_s16.mp3: \n",
      "Error processing 102_s17.mp3: \n",
      "Error processing 102_s18.mp3: \n",
      "Error processing 102_s19.mp3: \n",
      "Error processing 102_s20.mp3: \n",
      "Error processing 102_s8.mp3: \n",
      "Error processing 102_s9.mp3: \n",
      "Error processing 105_s19.mp3: \n",
      "Error processing 105_s20.mp3: \n",
      "Error processing 105_s21.mp3: \n",
      "Error processing 105_s22.mp3: \n",
      "Error processing 105_s23.mp3: \n",
      "Error processing 105_s24.mp3: \n",
      "Error processing 106_s12.mp3: \n",
      "Error processing 106_s13.mp3: \n",
      "Error processing 106_s14.mp3: \n",
      "Error processing 106_s15.mp3: \n",
      "Error processing 106_s16.mp3: \n",
      "Error processing 106_s17.mp3: \n",
      "Error processing 106_s18.mp3: \n",
      "Error processing 106_s19.mp3: \n",
      "Error processing 106_s20.mp3: \n",
      "Error processing 107_s10.mp3: \n",
      "Error processing 107_s11.mp3: \n",
      "Error processing 107_s12.mp3: \n",
      "Error processing 107_s13.mp3: \n",
      "Error processing 107_s14.mp3: \n",
      "Error processing 107_s15.mp3: \n",
      "Error processing 107_s16.mp3: \n",
      "Error processing 107_s17.mp3: \n",
      "Error processing 107_s18.mp3: \n",
      "Error processing 107_s19.mp3: \n",
      "Error processing 107_s20.mp3: \n",
      "Error processing 107_s21.mp3: \n",
      "Error processing 107_s22.mp3: \n",
      "Error processing 107_s23.mp3: \n",
      "Error processing 107_s24.mp3: \n",
      "Error processing 107_s25.mp3: \n",
      "Error processing 107_s26.mp3: \n",
      "Error processing 107_s27.mp3: \n",
      "Error processing 107_s28.mp3: \n",
      "Error processing 107_s29.mp3: \n",
      "Error processing 107_s30.mp3: \n",
      "Error processing 107_s31.mp3: \n",
      "Error processing 107_s9.mp3: \n",
      "Error processing 108_s10.mp3: \n",
      "Error processing 108_s11.mp3: \n",
      "Error processing 108_s12.mp3: \n",
      "Error processing 108_s13.mp3: \n",
      "Error processing 108_s14.mp3: \n",
      "Error processing 108_s15.mp3: \n",
      "Error processing 108_s16.mp3: \n",
      "Error processing 108_s17.mp3: \n",
      "Error processing 108_s18.mp3: \n",
      "Error processing 108_s19.mp3: \n",
      "Error processing 108_s20.mp3: \n",
      "Error processing 108_s21.mp3: \n",
      "Error processing 108_s22.mp3: \n",
      "Error processing 108_s23.mp3: \n",
      "Error processing 108_s24.mp3: \n",
      "Error processing 108_s25.mp3: \n",
      "Error processing 108_s26.mp3: \n",
      "Error processing 108_s27.mp3: \n",
      "Error processing 108_s28.mp3: \n",
      "Error processing 108_s29.mp3: \n",
      "Error processing 108_s30.mp3: \n",
      "Error processing 108_s31.mp3: \n",
      "Error processing 108_s32.mp3: \n",
      "Error processing 108_s33.mp3: \n",
      "Error processing 108_s34.mp3: \n",
      "Error processing 108_s35.mp3: \n",
      "Error processing 108_s36.mp3: \n",
      "Error processing 108_s37.mp3: \n",
      "Error processing 108_s38.mp3: \n",
      "Error processing 108_s39.mp3: \n",
      "Error processing 108_s40.mp3: \n",
      "Error processing 108_s41.mp3: \n",
      "Error processing 108_s42.mp3: \n",
      "Error processing 108_s43.mp3: \n",
      "Error processing 108_s44.mp3: \n",
      "Error processing 108_s45.mp3: \n",
      "Error processing 108_s46.mp3: \n",
      "Error processing 108_s47.mp3: \n",
      "Error processing 108_s48.mp3: \n",
      "Error processing 108_s49.mp3: \n",
      "Error processing 108_s50.mp3: \n",
      "Error processing 108_s51.mp3: \n",
      "Error processing 108_s52.mp3: \n",
      "Error processing 108_s53.mp3: \n",
      "Error processing 108_s54.mp3: \n",
      "Error processing 108_s8.mp3: \n",
      "Error processing 108_s9.mp3: \n",
      "Error processing 151_s7.mp3: Audio too short or silent\n",
      "Error processing 151_s72.mp3: Audio too short or silent\n",
      "Error processing 153_s14.mp3: Audio too short or silent\n",
      "Error processing 153_s17.mp3: Audio too short or silent\n",
      "Error processing 153_s18.mp3: Audio too short or silent\n",
      "Error processing 155_s2.mp3: Audio too short or silent\n",
      "Error processing 157_s15.mp3: Audio too short or silent\n",
      "Error processing 161_s16.mp3: Audio too short or silent\n",
      "Error processing 161_s21.mp3: Audio too short or silent\n",
      "Error processing 278_s21.mp3: Audio too short or silent\n"
     ]
    }
   ],
   "execution_count": 12
  },
  {
   "metadata": {},
   "cell_type": "markdown",
   "source": "## Q1)",
   "id": "c9049070d06f1a50"
  },
  {
   "metadata": {
    "ExecuteTime": {
     "end_time": "2025-07-26T17:01:21.236517Z",
     "start_time": "2025-07-26T17:01:21.233102Z"
    }
   },
   "cell_type": "code",
   "source": [
    "def analyze_class_stats(class_features):\n",
    "    classes = list(class_features.keys())\n",
    "    if len(classes) < 2:\n",
    "        print(\"Need at least 2 classes.\")\n",
    "        return\n",
    "\n",
    "    class1, class2 = classes[:2]\n",
    "    data1 = np.array(class_features[class1])\n",
    "    data2 = np.array(class_features[class2])\n",
    "\n",
    "    centroid1 = np.mean(data1, axis=0)\n",
    "    centroid2 = np.mean(data2, axis=0)\n",
    "\n",
    "    std1 = np.std(data1, axis=0)\n",
    "    std2 = np.std(data2, axis=0)\n",
    "\n",
    "    interclass_distance = np.linalg.norm(centroid1 - centroid2)\n",
    "\n",
    "    print(f\"\\n--- A1 Analysis: Comparing Class {class1} and {class2} ---\")\n",
    "    print(f\"Centroid 1: {centroid1}\")\n",
    "    print(f\"Centroid 2: {centroid2}\")\n",
    "    print(f\"Spread (std) for class {class1}: {std1}\")\n",
    "    print(f\"Spread (std) for class {class2}: {std2}\")\n",
    "    print(f\"Euclidean distance between centroids: {interclass_distance:.4f}\")\n",
    "\n"
   ],
   "id": "36ff73b5eba42165",
   "outputs": [],
   "execution_count": 13
  },
  {
   "metadata": {},
   "cell_type": "markdown",
   "source": "## Q2)",
   "id": "ffe6be21b9500e6"
  },
  {
   "metadata": {
    "ExecuteTime": {
     "end_time": "2025-07-26T17:01:21.247057Z",
     "start_time": "2025-07-26T17:01:21.243698Z"
    }
   },
   "cell_type": "code",
   "source": [
    "def plot_mfcc0_histogram(all_mfcc0):\n",
    "    all_mfcc0 = np.array(all_mfcc0)\n",
    "\n",
    "    if len(all_mfcc0) == 0:\n",
    "        print(\"No valid audio files with usable MFCC[0].\")\n",
    "        return\n",
    "\n",
    "    hist, bin_edges = np.histogram(all_mfcc0, bins=20)\n",
    "    mean_val = np.mean(all_mfcc0)\n",
    "    var_val = np.var(all_mfcc0)\n",
    "\n",
    "    plt.figure(figsize=(8, 5))\n",
    "    plt.hist(all_mfcc0, bins=20, color='lightcoral', edgecolor='black')\n",
    "    plt.title(\"Histogram of MFCC[0] (Energy Feature)\")\n",
    "    plt.xlabel(\"MFCC[0] Value\")\n",
    "    plt.ylabel(\"Frequency\")\n",
    "    plt.grid(True)\n",
    "    plt.tight_layout()\n",
    "    plt.show()\n",
    "\n",
    "    print(f\"\\nMean of MFCC[0]: {mean_val:.2f}\")\n",
    "    print(f\"Variance of MFCC[0]: {var_val:.2f}\")\n",
    "\n"
   ],
   "id": "127a8e30008260b7",
   "outputs": [],
   "execution_count": 14
  },
  {
   "metadata": {},
   "cell_type": "markdown",
   "source": "## Q3)",
   "id": "1193cbe42217b7ca"
  },
  {
   "metadata": {
    "ExecuteTime": {
     "end_time": "2025-07-26T17:01:21.583878Z",
     "start_time": "2025-07-26T17:01:21.579555Z"
    }
   },
   "cell_type": "code",
   "source": [
    "def plot_minkowski_distance(class_features):\n",
    "    all_vectors = [vec for vecs in class_features.values() for vec in vecs]\n",
    "    if len(all_vectors) < 2:\n",
    "        print(\"Not enough vectors.\")\n",
    "        return\n",
    "\n",
    "    vec1 = all_vectors[0]\n",
    "    vec2 = all_vectors[1]\n",
    "\n",
    "    r_values = list(range(1, 11))\n",
    "    distances = [distance.minkowski(vec1, vec2, p=r) for r in r_values]\n",
    "\n",
    "    plt.figure(figsize=(8, 5))\n",
    "    plt.plot(r_values, distances, marker='o', color='green')\n",
    "    plt.title(\"Minkowski Distance between Two MFCC Vectors\")\n",
    "    plt.xlabel(\"r (Minkowski order)\")\n",
    "    plt.ylabel(\"Distance\")\n",
    "    plt.xticks(r_values)\n",
    "    plt.grid(True)\n",
    "    plt.tight_layout()\n",
    "    plt.show()\n",
    "\n",
    "    print(\"\\nMinkowski distances:\")\n",
    "    for r, d in zip(r_values, distances):\n",
    "        print(f\"r = {r}: Distance = {d:.4f}\")\n"
   ],
   "id": "4882466c76e7b21e",
   "outputs": [],
   "execution_count": 15
  },
  {
   "metadata": {},
   "cell_type": "markdown",
   "source": "## Q4)",
   "id": "a777e7d56021cc44"
  },
  {
   "metadata": {
    "ExecuteTime": {
     "end_time": "2025-07-26T17:01:21.758082Z",
     "start_time": "2025-07-26T17:01:21.754324Z"
    }
   },
   "cell_type": "code",
   "source": [
    "def perform_train_test_split(class_features, class1='10', class2='19', test_ratio=0.3):\n",
    "    if class1 not in class_features or class2 not in class_features:\n",
    "        print(f\"Classes {class1} and/or {class2} not found in the dataset.\")\n",
    "        return None, None, None, None\n",
    "\n",
    "    X = np.array(class_features[class1] + class_features[class2])\n",
    "    y = np.array([0] * len(class_features[class1]) + [1] * len(class_features[class2]))\n",
    "\n",
    "    X_train, X_test, y_train, y_test = train_test_split(X, y, test_size=test_ratio, random_state=42)\n",
    "\n",
    "    print(f\"Total samples: {len(X)}\")\n",
    "    print(f\"Train samples: {len(X_train)} | Test samples: {len(X_test)}\")\n",
    "    return X_train, X_test, y_train, y_test"
   ],
   "id": "92338091b777e5c9",
   "outputs": [],
   "execution_count": 16
  },
  {
   "metadata": {},
   "cell_type": "markdown",
   "source": "## Q5)",
   "id": "a636f7a56ddcb948"
  },
  {
   "metadata": {
    "ExecuteTime": {
     "end_time": "2025-07-26T17:01:21.934253Z",
     "start_time": "2025-07-26T17:01:21.931282Z"
    }
   },
   "cell_type": "code",
   "source": [
    "def train_knn_classifier(X_train, y_train, k=3):\n",
    "    if X_train is None or y_train is None:\n",
    "        print(\"Training data is missing.\")\n",
    "        return None\n",
    "\n",
    "    knn = KNeighborsClassifier(n_neighbors=k)\n",
    "    knn.fit(X_train, y_train)\n",
    "    print(f\"k-NN classifier trained with k={k}\")\n",
    "    return knn"
   ],
   "id": "898ae0512943146b",
   "outputs": [],
   "execution_count": 17
  },
  {
   "metadata": {},
   "cell_type": "markdown",
   "source": "## Q6)",
   "id": "3c2a57e5fb85bbfa"
  },
  {
   "metadata": {
    "ExecuteTime": {
     "end_time": "2025-07-26T17:01:22.107240Z",
     "start_time": "2025-07-26T17:01:22.104815Z"
    }
   },
   "cell_type": "code",
   "source": [
    "def evaluate_knn_accuracy(model, X_test, y_test):\n",
    "    accuracy = model.score(X_test, y_test)\n",
    "    print(f\"Accuracy on test set: {accuracy * 100:.2f}%\")\n",
    "    return accuracy\n"
   ],
   "id": "64664759836ad4a8",
   "outputs": [],
   "execution_count": 18
  },
  {
   "metadata": {},
   "cell_type": "markdown",
   "source": "## Q7)",
   "id": "91e0a2554863627"
  },
  {
   "metadata": {
    "ExecuteTime": {
     "end_time": "2025-07-26T17:01:22.280820Z",
     "start_time": "2025-07-26T17:01:22.278350Z"
    }
   },
   "cell_type": "code",
   "source": [
    "\n",
    "#--A7--\n",
    "def predict_test_samples(model, X_test):\n",
    "    predictions = model.predict(X_test)\n",
    "    print(\"Predicted labels for test samples:\", predictions)\n",
    "    return predictions"
   ],
   "id": "4726c9a384b7570b",
   "outputs": [],
   "execution_count": 19
  },
  {
   "metadata": {},
   "cell_type": "markdown",
   "source": "## Q8)",
   "id": "a578070ebe22b8ac"
  },
  {
   "metadata": {
    "ExecuteTime": {
     "end_time": "2025-07-26T17:01:22.451792Z",
     "start_time": "2025-07-26T17:01:22.448185Z"
    }
   },
   "cell_type": "code",
   "source": [
    "\n",
    "#--A8--\n",
    "def accuracy_vs_k_plot(X_train, X_test, y_train, y_test):\n",
    "    k_values = range(1, 12)\n",
    "    accuracies = []\n",
    "\n",
    "    for k in k_values:\n",
    "        model = KNeighborsClassifier(n_neighbors=k)\n",
    "        model.fit(X_train, y_train)\n",
    "        acc = model.score(X_test, y_test)\n",
    "        accuracies.append(acc)\n",
    "\n",
    "    plt.figure(figsize=(8, 5))\n",
    "    plt.plot(k_values, accuracies, marker='o', linestyle='--', color='teal')\n",
    "    plt.title(\"Accuracy vs k (Number of Neighbors)\")\n",
    "    plt.xlabel(\"k (Number of Neighbors)\")\n",
    "    plt.ylabel(\"Accuracy\")\n",
    "    plt.grid(True)\n",
    "    plt.tight_layout()\n",
    "    plt.show()\n",
    "\n",
    "    return accuracies"
   ],
   "id": "6071a531f17025ad",
   "outputs": [],
   "execution_count": 20
  },
  {
   "metadata": {},
   "cell_type": "markdown",
   "source": "## Q9)",
   "id": "4d40fc431a002ba"
  },
  {
   "metadata": {
    "ExecuteTime": {
     "end_time": "2025-07-26T17:01:22.621421Z",
     "start_time": "2025-07-26T17:01:22.618323Z"
    }
   },
   "cell_type": "code",
   "source": [
    "def evaluate_confusion_metrics(model, X, y, label=\"\"):\n",
    "    y_pred = model.predict(X)\n",
    "    cm = confusion_matrix(y, y_pred)\n",
    "    print(f\"\\nConfusion Matrix ({label} set):\\n{cm}\")\n",
    "    print(f\"\\nClassification Report ({label} set):\\n{classification_report(y, y_pred)}\")"
   ],
   "id": "d90aee2f2243b773",
   "outputs": [],
   "execution_count": 21
  },
  {
   "metadata": {
    "ExecuteTime": {
     "end_time": "2025-07-26T17:01:23.160946Z",
     "start_time": "2025-07-26T17:01:22.788465Z"
    }
   },
   "cell_type": "code",
   "source": [
    "# MAIN\n",
    "if len(class_features) >= 2:\n",
    "    analyze_class_stats(class_features)         # A1\n",
    "    plot_mfcc0_histogram(all_mfcc0)            # MFCC[0] Histogram\n",
    "    plot_minkowski_distance(class_features) # Minkowski Plot\n",
    "    X_train, X_test, y_train, y_test = perform_train_test_split(class_features, class1='10', class2='19')\n",
    "    knn_model = train_knn_classifier(X_train, y_train, k=3)\n",
    "    print(knn_model)\n",
    "    evaluate_knn_accuracy(knn_model, X_test, y_test)\n",
    "    predict_test_samples(knn_model, X_test[:5])  # First 5 samples\n",
    "    accuracy_vs_k_plot(X_train, X_test, y_train, y_test)\n",
    "    evaluate_confusion_metrics(knn_model, X_train, y_train, label=\"Train\")\n",
    "    evaluate_confusion_metrics(knn_model, X_test, y_test, label=\"Test\")\n",
    "\n",
    "else:\n",
    "    print(\"Not enough valid classes with extracted features.\")\n"
   ],
   "id": "initial_id",
   "outputs": [
    {
     "name": "stdout",
     "output_type": "stream",
     "text": [
      "\n",
      "--- A1 Analysis: Comparing Class 1 and 10 ---\n",
      "Centroid 1: [-259.13495    161.55264     15.184353    20.162136   -13.719041\n",
      "   12.0295     -15.69566    -12.660883    -6.920454    -3.1101747\n",
      "  -10.057013    -2.5673292   -7.506902 ]\n",
      "Centroid 2: [-274.3221     159.99503     17.838211    15.709738   -10.854157\n",
      "    5.2915936  -14.297809   -13.599215    -7.9385467   -4.70076\n",
      "   -9.985747    -3.6677217   -7.1738844]\n",
      "Spread (std) for class 1: [46.673878  13.307991  13.349242   9.362619   9.78216    8.436214\n",
      "  7.094202   6.839151   6.154629   4.281485   3.8051827  3.5331244\n",
      "  3.493784 ]\n",
      "Spread (std) for class 10: [40.43579   18.10351   13.910612   8.977848   9.904343   9.16611\n",
      "  7.834411   6.125783   5.883142   4.417992   4.3105288  3.2147496\n",
      "  3.464197 ]\n",
      "Euclidean distance between centroids: 17.9242\n"
     ]
    },
    {
     "data": {
      "text/plain": [
       "<Figure size 800x500 with 1 Axes>"
      ],
      "image/png": "[encoded data removed]"
     },
     "metadata": {},
     "output_type": "display_data"
    },
    {
     "name": "stdout",
     "output_type": "stream",
     "text": [
      "\n",
      "Mean of MFCC[0]: -269.01\n",
      "Variance of MFCC[0]: 2095.06\n"
     ]
    },
    {
     "data": {
      "text/plain": [
       "<Figure size 800x500 with 1 Axes>"
      ],
      "image/png": "[encoded data removed]"
     },
     "metadata": {},
     "output_type": "display_data"
    },
    {
     "name": "stdout",
     "output_type": "stream",
     "text": [
      "\n",
      "Minkowski distances:\n",
      "r = 1: Distance = 101.6864\n",
      "r = 2: Distance = 34.5210\n",
      "r = 3: Distance = 25.2283\n",
      "r = 4: Distance = 21.8939\n",
      "r = 5: Distance = 20.2537\n",
      "r = 6: Distance = 19.3123\n",
      "r = 7: Distance = 18.7212\n",
      "r = 8: Distance = 18.3278\n",
      "r = 9: Distance = 18.0551\n",
      "r = 10: Distance = 17.8604\n",
      "Total samples: 254\n",
      "Train samples: 177 | Test samples: 77\n",
      "k-NN classifier trained with k=3\n",
      "KNeighborsClassifier(n_neighbors=3)\n",
      "Accuracy on test set: 46.75%\n",
      "Predicted labels for test samples: [0 1 0 0 0]\n"
     ]
    },
    {
     "data": {
      "text/plain": [
       "<Figure size 800x500 with 1 Axes>"
      ],
      "image/png": "[encoded data removed]"
     },
     "metadata": {},
     "output_type": "display_data"
    },
    {
     "name": "stdout",
     "output_type": "stream",
     "text": [
      "\n",
      "Confusion Matrix (Train set):\n",
      "[[86 12]\n",
      " [23 56]]\n",
      "\n",
      "Classification Report (Train set):\n",
      "              precision    recall  f1-score   support\n",
      "\n",
      "           0       0.79      0.88      0.83        98\n",
      "           1       0.82      0.71      0.76        79\n",
      "\n",
      "    accuracy                           0.80       177\n",
      "   macro avg       0.81      0.79      0.80       177\n",
      "weighted avg       0.80      0.80      0.80       177\n",
      "\n",
      "\n",
      "Confusion Matrix (Test set):\n",
      "[[21 19]\n",
      " [22 15]]\n",
      "\n",
      "Classification Report (Test set):\n",
      "              precision    recall  f1-score   support\n",
      "\n",
      "           0       0.49      0.53      0.51        40\n",
      "           1       0.44      0.41      0.42        37\n",
      "\n",
      "    accuracy                           0.47        77\n",
      "   macro avg       0.46      0.47      0.46        77\n",
      "weighted avg       0.47      0.47      0.47        77\n",
      "\n"
     ]
    }
   ],
   "execution_count": 22
  }
 ],
 "metadata": {
  "kernelspec": {
   "display_name": "Python 3",
   "language": "python",
   "name": "python3"
  },
  "language_info": {
   "codemirror_mode": {
    "name": "ipython",
    "version": 2
   },
   "file_extension": ".py",
   "mimetype": "text/x-python",
   "name": "python",
   "nbconvert_exporter": "python",
   "pygments_lexer": "ipython2",
   "version": "2.7.6"
  }
 },
 "nbformat": 4,
 "nbformat_minor": 5
}
