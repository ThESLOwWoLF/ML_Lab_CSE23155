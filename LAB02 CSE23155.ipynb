{
 "cells": [
  {
   "metadata": {},
   "cell_type": "markdown",
   "source": "## Q1)",
   "id": "fd25f5aaf20e4113"
  },
  {
   "cell_type": "code",
   "id": "initial_id",
   "metadata": {
    "collapsed": true,
    "ExecuteTime": {
     "end_time": "2025-08-02T15:55:06.477306Z",
     "start_time": "2025-08-02T15:55:06.201725Z"
    }
   },
   "source": [
    "import statistics\n",
    "\n",
    "import numpy.linalg\n",
    "import pandas as pd\n",
    "import numpy as np\n",
    "\n",
    "file=\"Lab Session Data.xlsx\"\n",
    "df=pd.read_excel(file,sheet_name=\"Purchase data\")\n",
    "a=df[['Candies (#)','Mangoes (Kg)','Milk Packets (#)']].values\n",
    "c=df[['Payment (Rs)']].values\n",
    "\n",
    "print(\"dimensionality is 3\")\n",
    "num_vectors=a.shape[0]\n",
    "print(f\"Number of vectors:{num_vectors}\")\n",
    "rank=np.linalg.matrix_rank(a)\n",
    "print(f\"Rank of A: {rank}\")\n",
    "x=numpy.linalg.pinv(a)@c\n",
    "print(f\"the pseudo-inverse is {x}\")\n"
   ],
   "outputs": [
    {
     "name": "stdout",
     "output_type": "stream",
     "text": [
      "dimensionality is 3\n",
      "Number of vectors:10\n",
      "Rank of A: 3\n",
      "the pseudo-inverse is [[ 1.]\n",
      " [55.]\n",
      " [18.]]\n"
     ]
    }
   ],
   "execution_count": 1
  },
  {
   "metadata": {},
   "cell_type": "markdown",
   "source": "## Q2)",
   "id": "c042cd0bc82d34eb"
  },
  {
   "metadata": {
    "ExecuteTime": {
     "end_time": "2025-08-02T15:55:06.538627Z",
     "start_time": "2025-08-02T15:55:06.517217Z"
    }
   },
   "cell_type": "code",
   "source": [
    "import numpy.linalg\n",
    "import pandas as pd\n",
    "\n",
    "file=\"Lab Session Data.xlsx\"\n",
    "df=pd.read_excel(file,sheet_name=\"Purchase data\")\n",
    "c=df[['Payment (Rs)']].values\n",
    "d = []\n",
    "for payment in c:\n",
    "    if payment > 200:\n",
    "        d.append(\"rich\")\n",
    "    else:\n",
    "        d.append(\"poor\")\n",
    "print(d)"
   ],
   "id": "1f79256bc7b5d3e1",
   "outputs": [
    {
     "name": "stdout",
     "output_type": "stream",
     "text": [
      "['rich', 'rich', 'rich', 'poor', 'rich', 'poor', 'rich', 'rich', 'poor', 'poor']\n"
     ]
    }
   ],
   "execution_count": 2
  },
  {
   "metadata": {},
   "cell_type": "markdown",
   "source": "## Q3)",
   "id": "8977092750885972"
  },
  {
   "metadata": {
    "ExecuteTime": {
     "end_time": "2025-08-02T15:55:06.711613Z",
     "start_time": "2025-08-02T15:55:06.681703Z"
    }
   },
   "cell_type": "code",
   "source": [
    "import pandas as pd\n",
    "import statistics\n",
    "\n",
    "file=\"Lab Session Data.xlsx\"\n",
    "df=pd.read_excel(file,sheet_name=\"IRCTC Stock Price\")\n",
    "d=df['Price'].values\n",
    "mean=statistics.mean(d)\n",
    "var=statistics.variance(d)\n",
    "print(f\"mean is {mean} and variance is {var}\")\n",
    "mean_wed = statistics.mean(df[df['Day'] == 'Wed']['Price'])\n",
    "mean_apr = statistics.mean(df[df['Month'] == 'Apr']['Price'])\n",
    "prob_loss = (df['Chg%'] < 0).mean()\n",
    "prob_profit_wed = ((df['Chg%'] > 0) & (df['Day'] == 'Wed')).sum() / (df['Day'] =='Wed').sum()\n",
    "print(\"Mean Price on Wednesdays:\", round(mean_wed, 2))\n",
    "print(\"Mean Price in April:\", round(mean_apr, 2))\n",
    "print(\"Probability of Loss:\", round(prob_loss, 4))\n",
    "print(\"Probability of Profit on Wednesday:\", round(prob_profit_wed, 4))"
   ],
   "id": "cabef7030158c04",
   "outputs": [
    {
     "name": "stdout",
     "output_type": "stream",
     "text": [
      "mean is 1560.663453815261 and variance is 58732.365352539186\n",
      "Mean Price on Wednesdays: 1550.71\n",
      "Mean Price in April: 1698.95\n",
      "Probability of Loss: 0.498\n",
      "Probability of Profit on Wednesday: 0.42\n"
     ]
    }
   ],
   "execution_count": 3
  },
  {
   "metadata": {},
   "cell_type": "markdown",
   "source": "## Q4)",
   "id": "efc9fe6a102235d4"
  },
  {
   "metadata": {
    "ExecuteTime": {
     "end_time": "2025-08-02T15:55:07.822049Z",
     "start_time": "2025-08-02T15:55:06.886345Z"
    }
   },
   "cell_type": "code",
   "source": [
    "import numpy as np\n",
    "\n",
    "file=\"Lab Session Data.xlsx\"\n",
    "\n",
    "thyroid_df = pd.read_excel(file, sheet_name='thyroid0387_UCI')\n",
    "desc = thyroid_df.describe(include='all')\n",
    "missing = thyroid_df.isnull().sum()\n",
    "print(\"\\nData Types:\\n\", thyroid_df.dtypes)\n",
    "print(\"\\nMissing Values:\\n\", missing)\n",
    "print(\"\\nUnique Values per Column:\\n\", thyroid_df.nunique())\n",
    "print(\"\\nDescriptive Statistics:\\n\", desc)\n",
    "\n",
    "categorical_cols = thyroid_df.select_dtypes(include='object').columns.tolist()\n",
    "print(\"\\nCategorical Columns:\", categorical_cols)\n",
    "\n",
    "print(\"\\nChecking for outliers (Q1 - 1.5*IQR, Q3 + 1.5*IQR):\")\n",
    "for col in thyroid_df.select_dtypes(include=np.number).columns:\n",
    "    Q1 = thyroid_df[col].quantile(0.25)\n",
    "    Q3 = thyroid_df[col].quantile(0.75)\n",
    "    IQR = Q3 - Q1\n",
    "    outliers = thyroid_df[(thyroid_df[col] < Q1 - 1.5 * IQR) | (thyroid_df[col] > Q3 + 1.5 * IQR)]\n",
    "    print(f\"{col}: {len(outliers)} outliers\")\n",
    "\n",
    "print(\"\\nMean and Variance for Numeric Columns:\")\n",
    "for col in thyroid_df.select_dtypes(include=np.number).columns:\n",
    "    mean = thyroid_df[col].mean()\n",
    "    var = thyroid_df[col].var()\n",
    "    print(f\"{col}: Mean = {mean:.2f}, Variance = {var:.2f}\")\n"
   ],
   "id": "71e3ca38efab12cb",
   "outputs": [
    {
     "name": "stdout",
     "output_type": "stream",
     "text": [
      "\n",
      "Data Types:\n",
      " Record ID                     int64\n",
      "age                           int64\n",
      "sex                          object\n",
      "on thyroxine                 object\n",
      "query on thyroxine           object\n",
      "on antithyroid medication    object\n",
      "sick                         object\n",
      "pregnant                     object\n",
      "thyroid surgery              object\n",
      "I131 treatment               object\n",
      "query hypothyroid            object\n",
      "query hyperthyroid           object\n",
      "lithium                      object\n",
      "goitre                       object\n",
      "tumor                        object\n",
      "hypopituitary                object\n",
      "psych                        object\n",
      "TSH measured                 object\n",
      "TSH                          object\n",
      "T3 measured                  object\n",
      "T3                           object\n",
      "TT4 measured                 object\n",
      "TT4                          object\n",
      "T4U measured                 object\n",
      "T4U                          object\n",
      "FTI measured                 object\n",
      "FTI                          object\n",
      "TBG measured                 object\n",
      "TBG                          object\n",
      "referral source              object\n",
      "Condition                    object\n",
      "dtype: object\n",
      "\n",
      "Missing Values:\n",
      " Record ID                    0\n",
      "age                          0\n",
      "sex                          0\n",
      "on thyroxine                 0\n",
      "query on thyroxine           0\n",
      "on antithyroid medication    0\n",
      "sick                         0\n",
      "pregnant                     0\n",
      "thyroid surgery              0\n",
      "I131 treatment               0\n",
      "query hypothyroid            0\n",
      "query hyperthyroid           0\n",
      "lithium                      0\n",
      "goitre                       0\n",
      "tumor                        0\n",
      "hypopituitary                0\n",
      "psych                        0\n",
      "TSH measured                 0\n",
      "TSH                          0\n",
      "T3 measured                  0\n",
      "T3                           0\n",
      "TT4 measured                 0\n",
      "TT4                          0\n",
      "T4U measured                 0\n",
      "T4U                          0\n",
      "FTI measured                 0\n",
      "FTI                          0\n",
      "TBG measured                 0\n",
      "TBG                          0\n",
      "referral source              0\n",
      "Condition                    0\n",
      "dtype: int64\n",
      "\n",
      "Unique Values per Column:\n",
      " Record ID                    9172\n",
      "age                           100\n",
      "sex                             3\n",
      "on thyroxine                    2\n",
      "query on thyroxine              2\n",
      "on antithyroid medication       2\n",
      "sick                            2\n",
      "pregnant                        2\n",
      "thyroid surgery                 2\n",
      "I131 treatment                  2\n",
      "query hypothyroid               2\n",
      "query hyperthyroid              2\n",
      "lithium                         2\n",
      "goitre                          2\n",
      "tumor                           2\n",
      "hypopituitary                   2\n",
      "psych                           2\n",
      "TSH measured                    2\n",
      "TSH                           370\n",
      "T3 measured                     2\n",
      "T3                             86\n",
      "TT4 measured                    2\n",
      "TT4                           288\n",
      "T4U measured                    2\n",
      "T4U                           177\n",
      "FTI measured                    2\n",
      "FTI                           324\n",
      "TBG measured                    2\n",
      "TBG                            67\n",
      "referral source                 6\n",
      "Condition                      32\n",
      "dtype: int64\n",
      "\n",
      "Descriptive Statistics:\n",
      "            Record ID           age   sex on thyroxine query on thyroxine  \\\n",
      "count   9.172000e+03   9172.000000  9172         9172               9172   \n",
      "unique           NaN           NaN     3            2                  2   \n",
      "top              NaN           NaN     F            f                  f   \n",
      "freq             NaN           NaN  6073         7932               9019   \n",
      "mean    8.529473e+08     73.555822   NaN          NaN                NaN   \n",
      "std     7.581969e+06   1183.976718   NaN          NaN                NaN   \n",
      "min     8.408010e+08      1.000000   NaN          NaN                NaN   \n",
      "25%     8.504090e+08     37.000000   NaN          NaN                NaN   \n",
      "50%     8.510040e+08     55.000000   NaN          NaN                NaN   \n",
      "75%     8.607110e+08     68.000000   NaN          NaN                NaN   \n",
      "max     8.701190e+08  65526.000000   NaN          NaN                NaN   \n",
      "\n",
      "       on antithyroid medication  sick pregnant thyroid surgery  \\\n",
      "count                       9172  9172     9172            9172   \n",
      "unique                         2     2        2               2   \n",
      "top                            f     f        f               f   \n",
      "freq                        9056  8828     9065            9038   \n",
      "mean                         NaN   NaN      NaN             NaN   \n",
      "std                          NaN   NaN      NaN             NaN   \n",
      "min                          NaN   NaN      NaN             NaN   \n",
      "25%                          NaN   NaN      NaN             NaN   \n",
      "50%                          NaN   NaN      NaN             NaN   \n",
      "75%                          NaN   NaN      NaN             NaN   \n",
      "max                          NaN   NaN      NaN             NaN   \n",
      "\n",
      "       I131 treatment  ... TT4 measured   TT4 T4U measured   T4U FTI measured  \\\n",
      "count            9172  ...         9172  9172         9172  9172         9172   \n",
      "unique              2  ...            2   288            2   177            2   \n",
      "top                 f  ...            t     ?            t     ?            t   \n",
      "freq             9003  ...         8730   442         8363   809         8370   \n",
      "mean              NaN  ...          NaN   NaN          NaN   NaN          NaN   \n",
      "std               NaN  ...          NaN   NaN          NaN   NaN          NaN   \n",
      "min               NaN  ...          NaN   NaN          NaN   NaN          NaN   \n",
      "25%               NaN  ...          NaN   NaN          NaN   NaN          NaN   \n",
      "50%               NaN  ...          NaN   NaN          NaN   NaN          NaN   \n",
      "75%               NaN  ...          NaN   NaN          NaN   NaN          NaN   \n",
      "max               NaN  ...          NaN   NaN          NaN   NaN          NaN   \n",
      "\n",
      "         FTI TBG measured   TBG referral source     Condition  \n",
      "count   9172         9172  9172            9172          9172  \n",
      "unique   324            2    67               6            32  \n",
      "top        ?            f     ?           other  NO CONDITION  \n",
      "freq     802         8823  8823            5493          6771  \n",
      "mean     NaN          NaN   NaN             NaN           NaN  \n",
      "std      NaN          NaN   NaN             NaN           NaN  \n",
      "min      NaN          NaN   NaN             NaN           NaN  \n",
      "25%      NaN          NaN   NaN             NaN           NaN  \n",
      "50%      NaN          NaN   NaN             NaN           NaN  \n",
      "75%      NaN          NaN   NaN             NaN           NaN  \n",
      "max      NaN          NaN   NaN             NaN           NaN  \n",
      "\n",
      "[11 rows x 31 columns]\n",
      "\n",
      "Categorical Columns: ['sex', 'on thyroxine', 'query on thyroxine', 'on antithyroid medication', 'sick', 'pregnant', 'thyroid surgery', 'I131 treatment', 'query hypothyroid', 'query hyperthyroid', 'lithium', 'goitre', 'tumor', 'hypopituitary', 'psych', 'TSH measured', 'TSH', 'T3 measured', 'T3', 'TT4 measured', 'TT4', 'T4U measured', 'T4U', 'FTI measured', 'FTI', 'TBG measured', 'TBG', 'referral source', 'Condition']\n",
      "\n",
      "Checking for outliers (Q1 - 1.5*IQR, Q3 + 1.5*IQR):\n",
      "Record ID: 0 outliers\n",
      "age: 4 outliers\n",
      "\n",
      "Mean and Variance for Numeric Columns:\n",
      "Record ID: Mean = 852947346.61, Variance = 57486250586150.28\n",
      "age: Mean = 73.56, Variance = 1401800.87\n"
     ]
    }
   ],
   "execution_count": 4
  },
  {
   "metadata": {},
   "cell_type": "markdown",
   "source": "## Q5)",
   "id": "559a026f6e1cd6"
  },
  {
   "metadata": {
    "ExecuteTime": {
     "end_time": "2025-08-02T15:55:07.986833Z",
     "start_time": "2025-08-02T15:55:07.841763Z"
    }
   },
   "cell_type": "code",
   "source": [
    "from sklearn.preprocessing import LabelEncoder\n",
    "\n",
    "df_encoded = thyroid_df.copy()\n",
    "for col in df_encoded.select_dtypes(include='object').columns:\n",
    "    le = LabelEncoder()\n",
    "    df_encoded[col] = le.fit_transform(df_encoded[col].astype(str))\n",
    "\n",
    "binary_df = df_encoded.loc[:, df_encoded.nunique() == 2]\n",
    "vec1 = binary_df.iloc[0].to_numpy()\n",
    "vec2 = binary_df.iloc[1].to_numpy()\n",
    "\n",
    "def jaccard_smc(v1, v2):\n",
    "    f11 = np.sum((v1 == 1) & (v2 == 1))\n",
    "    f00 = np.sum((v1 == 0) & (v2 == 0))\n",
    "    f10 = np.sum((v1 == 1) & (v2 == 0))\n",
    "    f01 = np.sum((v1 == 0) & (v2 == 1))\n",
    "\n",
    "    jc = f11 / (f11 + f10 + f01) if (f11 + f10 + f01) != 0 else 0\n",
    "    smc = (f11 + f00) / (f11 + f00 + f10 + f01) if (f11 + f00 + f10 + f01) != 0 else 0\n",
    "    return jc, smc\n",
    "jc, smc = jaccard_smc(vec1, vec2)\n",
    "\n",
    "print(f\"Jaccard Coefficient (JC): {jc:.4f}\")\n",
    "print(f\"Simple Matching Coefficient (SMC): {smc:.4f}\")"
   ],
   "id": "bd5c23429fa04bab",
   "outputs": [
    {
     "name": "stdout",
     "output_type": "stream",
     "text": [
      "Jaccard Coefficient (JC): 0.2500\n",
      "Simple Matching Coefficient (SMC): 0.8500\n"
     ]
    }
   ],
   "execution_count": 5
  },
  {
   "metadata": {},
   "cell_type": "markdown",
   "source": "## Q6)",
   "id": "75e5901a7b8115d7"
  },
  {
   "metadata": {
    "ExecuteTime": {
     "end_time": "2025-08-02T15:55:08.071672Z",
     "start_time": "2025-08-02T15:55:08.014219Z"
    }
   },
   "cell_type": "code",
   "source": [
    "from sklearn.metrics.pairwise import cosine_similarity\n",
    "\n",
    "vec1 = df_encoded.iloc[0].to_numpy().reshape(1, -1)\n",
    "vec2 = df_encoded.iloc[1].to_numpy().reshape(1, -1)\n",
    "cos_sim = cosine_similarity(vec1, vec2)[0][0]\n",
    "print(f\"Cosine Similarity: {cos_sim:.4f}\")"
   ],
   "id": "f8d6be8a8b9abf35",
   "outputs": [
    {
     "name": "stdout",
     "output_type": "stream",
     "text": [
      "Cosine Similarity: 1.0000\n"
     ]
    }
   ],
   "execution_count": 6
  },
  {
   "metadata": {},
   "cell_type": "markdown",
   "source": "## Q7)",
   "id": "aa8a35266ec603be"
  },
  {
   "metadata": {
    "ExecuteTime": {
     "end_time": "2025-08-02T15:55:08.262326Z",
     "start_time": "2025-08-02T15:55:08.096427Z"
    }
   },
   "cell_type": "code",
   "source": [
    "import matplotlib.pyplot as plt\n",
    "import seaborn as sns\n",
    "\n",
    "first_20 = df_encoded.iloc[:20]\n",
    "cos_sim_matrix = cosine_similarity(first_20)\n",
    "plt.figure(figsize=(10, 8))\n",
    "sns.heatmap(cos_sim_matrix, annot=False, cmap='viridis')\n",
    "plt.title(\"Cosine Similarity Heatmap (First 20 Observations)\")\n",
    "plt.xlabel(\"Observation Index\")\n",
    "plt.ylabel(\"Observation Index\")\n",
    "plt.show()"
   ],
   "id": "ed8ae8287f610677",
   "outputs": [
    {
     "data": {
      "text/plain": [
       "<Figure size 1000x800 with 2 Axes>"
      ],
      "image/png": "[encoded data removed]"
     },
     "metadata": {},
     "output_type": "display_data"
    }
   ],
   "execution_count": 7
  },
  {
   "metadata": {},
   "cell_type": "markdown",
   "source": "## Q8)",
   "id": "21ad3d5b5486c2a5"
  },
  {
   "metadata": {
    "ExecuteTime": {
     "end_time": "2025-08-02T15:55:08.303494Z",
     "start_time": "2025-08-02T15:55:08.293270Z"
    }
   },
   "cell_type": "code",
   "source": [
    "def impute_missing(df):\n",
    "    for col in df.columns:\n",
    "        if df[col].isnull().sum() == len(df[col]):\n",
    "            print(f\"Column '{col}' has all missing values \")\n",
    "            continue\n",
    "\n",
    "        if df[col].dtype == 'object':\n",
    "            mode_value = df[col].mode()[0]\n",
    "            df[col].fillna(mode_value, inplace=True)\n",
    "            print(f\"Column '{col}' is categorical → filled missing values with mode: {mode_value}\")\n",
    "\n",
    "        elif df[col].dtype in ['int64', 'float64']:\n",
    "            if df[col].nunique() < 10:\n",
    "                median_value = df[col].median()\n",
    "                df[col].fillna(median_value, inplace=True)\n",
    "                print(f\"Column '{col}' is numeric (likely with outliers) → filled missing values with median: {median_value}\")\n",
    "            else:\n",
    "                mean_value = df[col].mean()\n",
    "                df[col].fillna(mean_value, inplace=True)\n",
    "                print(f\"Column '{col}' is numeric without outliers → filled missing values with mean: {mean_value}\")\n",
    "    return\n",
    "\n",
    "df_cleaned = impute_missing(df)"
   ],
   "id": "d952b0eaac30c687",
   "outputs": [
    {
     "name": "stdout",
     "output_type": "stream",
     "text": [
      "Column 'Date' is categorical → filled missing values with mode: Apr 01, 2021\n",
      "Column 'Month' is categorical → filled missing values with mode: Jul\n",
      "Column 'Day' is categorical → filled missing values with mode: Tue\n",
      "Column 'Price' is numeric without outliers → filled missing values with mean: 1560.6634538152612\n",
      "Column 'Open' is numeric without outliers → filled missing values with mean: 1560.9654618473896\n",
      "Column 'High' is numeric without outliers → filled missing values with mean: 1586.1305220883535\n",
      "Column 'Low' is numeric without outliers → filled missing values with mean: 1538.7427710843374\n",
      "Column 'Volume' is categorical → filled missing values with mode: 1.16M\n",
      "Column 'Chg%' is numeric without outliers → filled missing values with mean: 0.0019642570281124495\n"
     ]
    },
    {
     "name": "stderr",
     "output_type": "stream",
     "text": [
      "C:\\Users\\sudha\\AppData\\Local\\Temp\\ipykernel_32188\\642484768.py:9: FutureWarning: A value is trying to be set on a copy of a DataFrame or Series through chained assignment using an inplace method.\n",
      "The behavior will change in pandas 3.0. This inplace method will never work because the intermediate object on which we are setting values always behaves as a copy.\n",
      "\n",
      "For example, when doing 'df[col].method(value, inplace=True)', try using 'df.method({col: value}, inplace=True)' or df[col] = df[col].method(value) instead, to perform the operation inplace on the original object.\n",
      "\n",
      "\n",
      "  df[col].fillna(mode_value, inplace=True)\n",
      "C:\\Users\\sudha\\AppData\\Local\\Temp\\ipykernel_32188\\642484768.py:19: FutureWarning: A value is trying to be set on a copy of a DataFrame or Series through chained assignment using an inplace method.\n",
      "The behavior will change in pandas 3.0. This inplace method will never work because the intermediate object on which we are setting values always behaves as a copy.\n",
      "\n",
      "For example, when doing 'df[col].method(value, inplace=True)', try using 'df.method({col: value}, inplace=True)' or df[col] = df[col].method(value) instead, to perform the operation inplace on the original object.\n",
      "\n",
      "\n",
      "  df[col].fillna(mean_value, inplace=True)\n"
     ]
    }
   ],
   "execution_count": 8
  },
  {
   "metadata": {},
   "cell_type": "markdown",
   "source": "## Q9)",
   "id": "a9af816910426dd5"
  },
  {
   "metadata": {
    "ExecuteTime": {
     "end_time": "2025-08-02T15:57:32.148215Z",
     "start_time": "2025-08-02T15:57:32.134801Z"
    }
   },
   "cell_type": "code",
   "source": [
    "from sklearn.preprocessing import MinMaxScaler\n",
    "\n",
    "\n",
    "def normalize_columns(df, columns):\n",
    "    scaler = MinMaxScaler()\n",
    "    print(\"Normalizing the following columns:\")\n",
    "    for col in columns:\n",
    "        print(f\"→ Column '{col}' scaled using Min-Max Scaling.\")\n",
    "    df[columns] = scaler.fit_transform(df[columns])\n",
    "    return df\n",
    "\n",
    "\n",
    "numeric_cols = df_encoded.select_dtypes(include=['int64', 'float64']).columns.tolist()\n",
    "df_normalized = normalize_columns(df_encoded.copy(), numeric_cols)"
   ],
   "id": "f1ccf88cc4d0f11c",
   "outputs": [
    {
     "name": "stdout",
     "output_type": "stream",
     "text": [
      "Normalizing the following columns:\n",
      "→ Column 'Record ID' scaled using Min-Max Scaling.\n",
      "→ Column 'age' scaled using Min-Max Scaling.\n",
      "→ Column 'sex' scaled using Min-Max Scaling.\n",
      "→ Column 'on thyroxine' scaled using Min-Max Scaling.\n",
      "→ Column 'query on thyroxine' scaled using Min-Max Scaling.\n",
      "→ Column 'on antithyroid medication' scaled using Min-Max Scaling.\n",
      "→ Column 'sick' scaled using Min-Max Scaling.\n",
      "→ Column 'pregnant' scaled using Min-Max Scaling.\n",
      "→ Column 'thyroid surgery' scaled using Min-Max Scaling.\n",
      "→ Column 'I131 treatment' scaled using Min-Max Scaling.\n",
      "→ Column 'query hypothyroid' scaled using Min-Max Scaling.\n",
      "→ Column 'query hyperthyroid' scaled using Min-Max Scaling.\n",
      "→ Column 'lithium' scaled using Min-Max Scaling.\n",
      "→ Column 'goitre' scaled using Min-Max Scaling.\n",
      "→ Column 'tumor' scaled using Min-Max Scaling.\n",
      "→ Column 'hypopituitary' scaled using Min-Max Scaling.\n",
      "→ Column 'psych' scaled using Min-Max Scaling.\n",
      "→ Column 'TSH measured' scaled using Min-Max Scaling.\n",
      "→ Column 'TSH' scaled using Min-Max Scaling.\n",
      "→ Column 'T3 measured' scaled using Min-Max Scaling.\n",
      "→ Column 'T3' scaled using Min-Max Scaling.\n",
      "→ Column 'TT4 measured' scaled using Min-Max Scaling.\n",
      "→ Column 'TT4' scaled using Min-Max Scaling.\n",
      "→ Column 'T4U measured' scaled using Min-Max Scaling.\n",
      "→ Column 'T4U' scaled using Min-Max Scaling.\n",
      "→ Column 'FTI measured' scaled using Min-Max Scaling.\n",
      "→ Column 'FTI' scaled using Min-Max Scaling.\n",
      "→ Column 'TBG measured' scaled using Min-Max Scaling.\n",
      "→ Column 'TBG' scaled using Min-Max Scaling.\n",
      "→ Column 'referral source' scaled using Min-Max Scaling.\n",
      "→ Column 'Condition' scaled using Min-Max Scaling.\n"
     ]
    }
   ],
   "execution_count": 10
  }
 ],
 "metadata": {
  "kernelspec": {
   "display_name": "Python 3",
   "language": "python",
   "name": "python3"
  },
  "language_info": {
   "codemirror_mode": {
    "name": "ipython",
    "version": 2
   },
   "file_extension": ".py",
   "mimetype": "text/x-python",
   "name": "python",
   "nbconvert_exporter": "python",
   "pygments_lexer": "ipython2",
   "version": "2.7.6"
  }
 },
 "nbformat": 4,
 "nbformat_minor": 5
}
