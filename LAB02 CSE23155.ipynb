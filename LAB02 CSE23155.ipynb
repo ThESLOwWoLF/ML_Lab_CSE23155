{
 "cells": [
  {
   "metadata": {},
   "cell_type": "markdown",
   "source": "## Q1)",
   "id": "fd25f5aaf20e4113"
  },
  {
   "cell_type": "code",
   "execution_count": null,
   "id": "initial_id",
   "metadata": {
    "collapsed": true
   },
   "outputs": [],
   "source": [
    "import numpy.linalg\n",
    "import pandas as pd\n",
    "import numpy as np\n",
    "\n",
    "file=\"Lab Session Data.xlsx\"\n",
    "df=pd.read_excel(file,sheet_name=\"Purchase data\")\n",
    "a=df[['Candies (#)','Mangoes (Kg)','Milk Packets (#)']].values\n",
    "c=df[['Payment (Rs)']].values\n",
    "\n",
    "print(\"dimensionality is 3\")\n",
    "num_vectors=a.shape[0]\n",
    "print(f\"Number of vectors:{num_vectors}\")\n",
    "rank=np.linalg.matrix_rank(a)\n",
    "print(f\"Rank of A: {rank}\")\n",
    "x=numpy.linalg.pinv(a)@c\n",
    "print(f\"the pseudo-inverse is {x}\")\n"
   ]
  },
  {
   "metadata": {},
   "cell_type": "markdown",
   "source": "## Q2)",
   "id": "c042cd0bc82d34eb"
  },
  {
   "metadata": {
    "ExecuteTime": {
     "end_time": "2025-07-16T07:08:27.837989Z",
     "start_time": "2025-07-16T07:08:27.818192Z"
    }
   },
   "cell_type": "code",
   "source": [
    "import numpy.linalg\n",
    "import pandas as pd\n",
    "\n",
    "file=\"Lab Session Data.xlsx\"\n",
    "df=pd.read_excel(file,sheet_name=\"Purchase data\")\n",
    "c=df[['Payment (Rs)']].values\n",
    "d = []\n",
    "for payment in c:\n",
    "    if payment > 200:\n",
    "        d.append(\"rich\")\n",
    "    else:\n",
    "        d.append(\"poor\")\n",
    "print(d)"
   ],
   "id": "1f79256bc7b5d3e1",
   "outputs": [
    {
     "name": "stdout",
     "output_type": "stream",
     "text": [
      "['rich', 'rich', 'rich', 'poor', 'rich', 'poor', 'rich', 'rich', 'poor', 'poor']\n"
     ]
    }
   ],
   "execution_count": 6
  },
  {
   "metadata": {},
   "cell_type": "markdown",
   "source": "## Q3)",
   "id": "8977092750885972"
  },
  {
   "metadata": {},
   "cell_type": "code",
   "outputs": [],
   "execution_count": null,
   "source": "",
   "id": "cabef7030158c04"
  }
 ],
 "metadata": {
  "kernelspec": {
   "display_name": "Python 3",
   "language": "python",
   "name": "python3"
  },
  "language_info": {
   "codemirror_mode": {
    "name": "ipython",
    "version": 2
   },
   "file_extension": ".py",
   "mimetype": "text/x-python",
   "name": "python",
   "nbconvert_exporter": "python",
   "pygments_lexer": "ipython2",
   "version": "2.7.6"
  }
 },
 "nbformat": 4,
 "nbformat_minor": 5
}
